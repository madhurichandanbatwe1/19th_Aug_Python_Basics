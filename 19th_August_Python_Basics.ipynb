{
 "cells": [
  {
   "cell_type": "markdown",
   "id": "9ccf9b3f-0c00-4b00-8af9-493f602c6d55",
   "metadata": {},
   "source": [
    "Q1.Declare two variables, `x` and `y`, and assign them integer values. Swap the\n",
    "values of these variables without using any temporary variable."
   ]
  },
  {
   "cell_type": "code",
   "execution_count": 6,
   "id": "3615f7ba-de95-45a2-8312-16a7dc66ebd3",
   "metadata": {},
   "outputs": [
    {
     "name": "stdout",
     "output_type": "stream",
     "text": [
      "x: 1\n",
      "y: 2\n"
     ]
    }
   ],
   "source": [
    "x=2 #declaring variables\n",
    "y=1\n",
    "x,y=y,x #swapping\n",
    "print(\"x:\",x)\n",
    "print(\"y:\",y)"
   ]
  },
  {
   "cell_type": "markdown",
   "id": "618db32d-66a3-453b-bca3-db648ab353f6",
   "metadata": {},
   "source": [
    "2. Create a program that calculates the area of a rectangle. Take the length and\n",
    "width as inputs from the user and store them in variables. Calculate and\n",
    "display the area."
   ]
  },
  {
   "cell_type": "code",
   "execution_count": 8,
   "id": "862e2ebd-6d5a-4f00-b4e5-fe51b462e732",
   "metadata": {},
   "outputs": [
    {
     "name": "stdin",
     "output_type": "stream",
     "text": [
      "enter the length 2\n",
      "enter the width 3\n"
     ]
    },
    {
     "name": "stdout",
     "output_type": "stream",
     "text": [
      "area  of rectangle is 6.0\n"
     ]
    }
   ],
   "source": [
    "x=float(input(\"enter the length\"))\n",
    "y=float(input(\"enter the width\"))\n",
    "area=x*y\n",
    "print(\"area  of rectangle is\",area)"
   ]
  },
  {
   "cell_type": "markdown",
   "id": "5428f4eb-ac6f-4e5e-9781-35459d7c8533",
   "metadata": {},
   "source": [
    "3.Write a Python program that converts temperatures from Celsius to\n",
    "Fahrenheit. Take the temperature in Celsius as input, store it in a variable,\n",
    "convert it to Fahrenheit, and display the result."
   ]
  },
  {
   "cell_type": "code",
   "execution_count": 9,
   "id": "3789c8df-e5f1-43cc-bc90-a4825e0d0057",
   "metadata": {},
   "outputs": [
    {
     "name": "stdin",
     "output_type": "stream",
     "text": [
      "enter the temperature in celsius 0\n"
     ]
    },
    {
     "name": "stdout",
     "output_type": "stream",
     "text": [
      "temperature in fahreinheit is 32.0\n"
     ]
    }
   ],
   "source": [
    "temp=float(input(\"enter the temperature in celsius\"))\n",
    "new_temp=(temp*9/5+32)\n",
    "print(f'temperature in fahreinheit is {new_temp}')"
   ]
  },
  {
   "cell_type": "markdown",
   "id": "e9044dde-2aa0-4220-94ad-e96e5429c168",
   "metadata": {},
   "source": [
    "#String based questions\""
   ]
  },
  {
   "cell_type": "markdown",
   "id": "f57a97e2-09c7-4894-bebd-8f51e045cdc5",
   "metadata": {},
   "source": [
    "1. Write a Python program that takes a string as input and prints the length of\n",
    "the string."
   ]
  },
  {
   "cell_type": "code",
   "execution_count": 10,
   "id": "115828da-b390-4556-af5e-70c755f6e3af",
   "metadata": {},
   "outputs": [
    {
     "name": "stdin",
     "output_type": "stream",
     "text": [
      "input the string PWSkills\n"
     ]
    },
    {
     "name": "stdout",
     "output_type": "stream",
     "text": [
      "length is 8\n"
     ]
    }
   ],
   "source": [
    "s=input(\"input the string\")\n",
    "l=len(s)\n",
    "print(\"length is\",l)"
   ]
  },
  {
   "cell_type": "markdown",
   "id": "4f2c076f-d7a3-498d-89a5-4e733a0e0f53",
   "metadata": {},
   "source": [
    "2. Create a program that takes a sentence from the user and counts the number\n",
    "of vowels (a, e, i, o, u) in the string."
   ]
  },
  {
   "cell_type": "code",
   "execution_count": 24,
   "id": "72eb0619-438d-45fd-b6de-fc6d940b3580",
   "metadata": {},
   "outputs": [
    {
     "name": "stdin",
     "output_type": "stream",
     "text": [
      "Enter the sentence I am learning Data Science from PWSkills\n"
     ]
    },
    {
     "name": "stdout",
     "output_type": "stream",
     "text": [
      "Count of a is 4\n",
      "Count of e is 3\n",
      "Count of i is 4\n",
      "Count of o is 1\n"
     ]
    }
   ],
   "source": [
    "sentence=input(\"Enter the sentence\")\n",
    "z=list(sentence.lower())\n",
    "l=['a','e','i','o','u']\n",
    "for i in l:\n",
    "    if i in z:\n",
    "        c=z.count(i)\n",
    "        print(\"Count of\",i,\"is\",c)"
   ]
  },
  {
   "cell_type": "markdown",
   "id": "12dbbfaa-1caa-409c-bccd-f24f8f4383b4",
   "metadata": {},
   "source": [
    "3. Given a string, reverse the order of characters using string slicing and print the reversed string"
   ]
  },
  {
   "cell_type": "code",
   "execution_count": 23,
   "id": "a292b16a-556a-42ee-a530-8ef62166c5ec",
   "metadata": {},
   "outputs": [
    {
     "data": {
      "text/plain": [
       "'sllikSWP'"
      ]
     },
     "execution_count": 23,
     "metadata": {},
     "output_type": "execute_result"
    }
   ],
   "source": [
    "p=\"PWSkills\"\n",
    "p=p[::-1]\n",
    "p"
   ]
  },
  {
   "cell_type": "markdown",
   "id": "a1cbac2a-b8b5-4d38-9448-7590fd93ac5d",
   "metadata": {},
   "source": [
    "4. Write a program that takes a string as input and checks if it is a palindrome(reads the same forwards and backwards)."
   ]
  },
  {
   "cell_type": "code",
   "execution_count": 30,
   "id": "eeb68b2a-509d-4b2f-8653-9692461a1582",
   "metadata": {},
   "outputs": [
    {
     "name": "stdin",
     "output_type": "stream",
     "text": [
      "Enter the string Civic\n"
     ]
    },
    {
     "name": "stdout",
     "output_type": "stream",
     "text": [
      "String is palindrome\n"
     ]
    }
   ],
   "source": [
    "string1=str(input(\"Enter the string\"))\n",
    "string1=string1.lower()\n",
    "if string1==string1[::-1]:\n",
    "    print(\"String is palindrome\")"
   ]
  },
  {
   "cell_type": "markdown",
   "id": "7ac07e48-469a-439e-bbb5-ea629a91a002",
   "metadata": {},
   "source": [
    "5. Create a program that takes a string as input and removes all the spaces from it. Print the modified string without spaces."
   ]
  },
  {
   "cell_type": "code",
   "execution_count": 27,
   "id": "787b0b40-175c-4162-8bc3-7011ea1ee345",
   "metadata": {},
   "outputs": [
    {
     "name": "stdin",
     "output_type": "stream",
     "text": [
      "enter the string m a d h u r i\n"
     ]
    },
    {
     "name": "stdout",
     "output_type": "stream",
     "text": [
      "stripped_string madhuri\n"
     ]
    }
   ],
   "source": [
    "string=str(input(\"enter the string\"))\n",
    "new_string=string.replace(\" \",\"\")\n",
    "print(\"stripped_string\",new_string)"
   ]
  },
  {
   "cell_type": "code",
   "execution_count": null,
   "id": "33dc22b0-0396-4930-83aa-deb451a95592",
   "metadata": {},
   "outputs": [],
   "source": []
  }
 ],
 "metadata": {
  "kernelspec": {
   "display_name": "Python 3 (ipykernel)",
   "language": "python",
   "name": "python3"
  },
  "language_info": {
   "codemirror_mode": {
    "name": "ipython",
    "version": 3
   },
   "file_extension": ".py",
   "mimetype": "text/x-python",
   "name": "python",
   "nbconvert_exporter": "python",
   "pygments_lexer": "ipython3",
   "version": "3.10.8"
  }
 },
 "nbformat": 4,
 "nbformat_minor": 5
}
